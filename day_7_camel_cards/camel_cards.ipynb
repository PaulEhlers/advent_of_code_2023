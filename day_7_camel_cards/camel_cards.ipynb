{
 "cells": [
  {
   "cell_type": "markdown",
   "source": [
    "#Part 1\n"
   ],
   "metadata": {
    "collapsed": false
   }
  },
  {
   "cell_type": "code",
   "outputs": [
    {
     "name": "stdout",
     "output_type": "stream",
     "text": [
      "250825971\r\n"
     ]
    }
   ],
   "source": [
    "import java.io.File\n",
    "import kotlin.reflect.typeOf\n",
    "\n",
    "data class Hand(\n",
    "        val cards: String, \n",
    "        val bid: Int,\n",
    "        val type: Int,\n",
    "        val highCardCount: Int,\n",
    ")\n",
    "\n",
    "fun getCardValue (c : Char) : Int {\n",
    "    when(c) {\n",
    "        'A' -> return 13\n",
    "        'K' -> return 12\n",
    "        'Q' -> return 11\n",
    "        'T' -> return 10\n",
    "        'J' -> return 1\n",
    "    }\n",
    "    \n",
    "    return c.digitToInt()\n",
    "}\n",
    "\n",
    "var sum = 0L\n",
    "\n",
    "val hands = File(\"./input.txt\")\n",
    "        .readLines()\n",
    "        .map { \n",
    "            val (hand, bid) = it.split(\" \")\n",
    "            \n",
    "            val duplicate_count_raw = hand\n",
    "                    .groupingBy { it }\n",
    "                    .eachCount()\n",
    "            \n",
    "            var duplicate_count = duplicate_count_raw.map { it.value }.sortedDescending().toMutableList()\n",
    "\n",
    "            if(duplicate_count_raw.contains('J')) {\n",
    "                val jokerNumber = duplicate_count_raw['J']\n",
    "                if(duplicate_count.size == 2) {\n",
    "                    duplicate_count.removeLast()\n",
    "                }\n",
    "                else if(duplicate_count.size == 3) {\n",
    "                    if(duplicate_count[0] == 3 || jokerNumber == 2) {\n",
    "                        duplicate_count.set(0, 4)\n",
    "                        duplicate_count.removeLast()\n",
    "                    } else {\n",
    "                        duplicate_count.set(0, 3)\n",
    "                        duplicate_count.removeLast()\n",
    "                    }\n",
    "                }  else if(duplicate_count.size == 4) {\n",
    "                        duplicate_count.set(0, 3)\n",
    "                        duplicate_count.removeLast()\n",
    "                } else if(duplicate_count.size == 5) {\n",
    "                    duplicate_count.removeLast()\n",
    "                }\n",
    "            }\n",
    "            \n",
    "            \n",
    "            var sorted = duplicate_count\n",
    "            var type = 0\n",
    "            if(sorted.size == 1) {\n",
    "                type = 100\n",
    "            } else if(sorted.size == 2) {\n",
    "                if(sorted[0] == 4) {\n",
    "                    type = 90\n",
    "                } else {\n",
    "                    type = 80\n",
    "                }\n",
    "            } else if(sorted.size == 3) {\n",
    "                if(sorted[0] == 3) {\n",
    "                    type = 70\n",
    "                } else {\n",
    "                    type = 60\n",
    "                }\n",
    "            } else if (sorted.size == 4) {\n",
    "                type = 50\n",
    "            }\n",
    "            \n",
    "            var cardCount = 0\n",
    "            hand.forEachIndexed { index, c -> \n",
    "                cardCount += \n",
    "                        Math.pow(15.0, 5.0 - index - 1).toInt() * getCardValue(c)\n",
    "            }\n",
    "            \n",
    "            \n",
    "            Hand(\n",
    "                cards = hand, \n",
    "                bid = bid.toInt(), \n",
    "                type = type,\n",
    "                highCardCount = cardCount\n",
    "            ) \n",
    "        }\n",
    "        .sortedWith(compareBy({ it.type }, {it.highCardCount}))\n",
    "\n",
    "\n",
    "hands.forEachIndexed { index, hand -> \n",
    "    sum += hand.bid * (index + 1)\n",
    "}\n",
    "\n",
    "println(sum)"
   ],
   "metadata": {
    "collapsed": false,
    "ExecuteTime": {
     "end_time": "2023-12-30T18:55:56.594144500Z",
     "start_time": "2023-12-30T18:55:56.386957400Z"
    }
   },
   "execution_count": 26
  }
 ],
 "metadata": {
  "kernelspec": {
   "display_name": "Kotlin",
   "language": "kotlin",
   "name": "kotlin"
  },
  "language_info": {
   "name": "kotlin",
   "version": "1.9.0",
   "mimetype": "text/x-kotlin",
   "file_extension": ".kt",
   "pygments_lexer": "kotlin",
   "codemirror_mode": "text/x-kotlin",
   "nbconvert_exporter": ""
  }
 },
 "nbformat": 4,
 "nbformat_minor": 0
}
